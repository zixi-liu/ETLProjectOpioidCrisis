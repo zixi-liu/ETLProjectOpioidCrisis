{
 "cells": [
  {
   "cell_type": "markdown",
   "metadata": {},
   "source": [
    "# ETL Project - 2020 Opioid Data Hackathon"
   ]
  },
  {
   "cell_type": "code",
   "execution_count": 106,
   "metadata": {},
   "outputs": [
    {
     "name": "stdout",
     "output_type": "stream",
     "text": [
      "Collecting pymysql\n",
      "  Downloading PyMySQL-0.10.1-py2.py3-none-any.whl (47 kB)\n",
      "\u001b[K     |████████████████████████████████| 47 kB 571 kB/s eta 0:00:011\n",
      "\u001b[?25hInstalling collected packages: pymysql\n",
      "Successfully installed pymysql-0.10.1\n"
     ]
    }
   ],
   "source": [
    "#!pip install mysql-connector-python\n",
    "#!pip install pymysql"
   ]
  },
  {
   "cell_type": "code",
   "execution_count": 107,
   "metadata": {},
   "outputs": [],
   "source": [
    "# Import Libraries\n",
    "import numpy as mp\n",
    "import pandas as pd\n",
    "import datetime\n",
    "import seaborn as sns\n",
    "import mysql.connector\n",
    "\n",
    "from mysql.connector import Error\n",
    "from mysql.connector import errorcode\n",
    "import pymysql"
   ]
  },
  {
   "cell_type": "markdown",
   "metadata": {},
   "source": [
    "### Prevention Point\n",
    "\n",
    "#### Naloxone refill_events\n",
    "In many states, individuals must receive a prescription to carry overdose reversal drugs like Narcan (Naloxone). In 2014, Pennsylvania passed legislation allowing any citizen who could be in the position to administer overdose reversal drugs to receive, carry, and administer such drugs. Prevention Point, among other locations, trains and hands out refills for Narcan (Naloxone).  Narcan is an overdose reversal drug administered either intravenously or intranalasally. \n",
    "\n",
    "Individuals receiving training or refills through Prevention Point are required to fill out a questionnaire about their experiences with overdoses and related demographic information.\n",
    "\n",
    "\n",
    "### Research Questions\n",
    "\n",
    "It's very important that we look at the recovery process with regards to building understanding in the general public. We want to know whether prescribing/refilling Narcan could help the patient to survived or not.\n",
    "\n",
    "Here are things we want to look at when we load data:\n",
    "\n",
    "We have all naloxone refills of Naloxone at PP and all overdose responses and naloxone administrations in Philadelphia in 2018. We want to build a scheme that contains the number and amount of naloxone refills each month and the survival rate and rate of naloxone administered for overdose incidents each month.\n"
   ]
  },
  {
   "cell_type": "markdown",
   "metadata": {},
   "source": [
    "Acronyms:\n",
    "\n",
    "* PP: Prevention Point\n",
    "* SEP: Syringe Exchange Program\n",
    "* HF: Health Federation\n",
    "* DPH: Department of Public Health\n",
    "* ED: Emergency Department\n",
    "* EMS: Emergency Medical Services\n",
    "* OD: Overdose\n"
   ]
  },
  {
   "cell_type": "code",
   "execution_count": 27,
   "metadata": {},
   "outputs": [],
   "source": [
    "# Information on overdose responses and naloxone administrations.\n",
    "overdose= pd.read_csv(\"/Users/zixiliu/LouisvilleProject_files/datahack2020/data/psp_overdose_events.csv\")\n",
    "\n",
    "# Information collected at time of naloxone refills of Naloxone at PP.\n",
    "refill= pd.read_csv(\"/Users/zixiliu/LouisvilleProject_files/datahack2020/data/data_pp_refill-14-feb/pp_refill_events.csv\")\n",
    "\n",
    "# pp_refill_events measures aggregated by participant zipcode.\n",
    "refill_zips= pd.read_csv(\"/Users/zixiliu/LouisvilleProject_files/datahack2020/data/data/pp_refill_zipcode_metrics.csv\")\n",
    "\n",
    "# overdose mortality by residential zip\n",
    "mortality_res= pd.read_csv(\"/Users/zixiliu/LouisvilleProject_files/datahack2020/data/data/dph_od_resident_counts.csv\")\n",
    "\n",
    "# overdose mortality by incident zip\n",
    "mortality_inc= pd.read_csv(\"/Users/zixiliu/LouisvilleProject_files/datahack2020/data/data/dph_od_incident_counts.csv\")"
   ]
  },
  {
   "cell_type": "code",
   "execution_count": 28,
   "metadata": {},
   "outputs": [],
   "source": [
    "#efficient way to extract month from string format date\n",
    "refill['refill_month'] = pd.DatetimeIndex(refill['refill_date']).month\n",
    "overdose['Incident Month'] = pd.DatetimeIndex(overdose['Incident Date']).month"
   ]
  },
  {
   "cell_type": "markdown",
   "metadata": {},
   "source": [
    "## Data Cleaning"
   ]
  },
  {
   "cell_type": "code",
   "execution_count": 38,
   "metadata": {},
   "outputs": [
    {
     "data": {
      "text/plain": [
       "<matplotlib.axes._subplots.AxesSubplot at 0x1a2a3d20f0>"
      ]
     },
     "execution_count": 38,
     "metadata": {},
     "output_type": "execute_result"
    },
    {
     "data": {
      "image/png": "[encoded data removed]",
      "text/plain": [
       "<Figure size 432x288 with 1 Axes>"
      ]
     },
     "metadata": {
      "needs_background": "light"
     },
     "output_type": "display_data"
    }
   ],
   "source": [
    "# The variables of interest are:\n",
    "# n_pp_refill: number of naloxone refills received at PP\n",
    "# ml_naloxone: amount of naloxone used by participant\n",
    "refill_cleaned = refill.dropna(subset=['n_pp_refill', 'ml_naloxone'])\n",
    "\n",
    "# Examine whether there is outlier in n_pp_refill\n",
    "sns.boxplot(x=refill_cleaned['refill_month'],y=refill_cleaned['n_pp_refill'])"
   ]
  },
  {
   "cell_type": "code",
   "execution_count": 39,
   "metadata": {},
   "outputs": [
    {
     "data": {
      "text/plain": [
       "<matplotlib.axes._subplots.AxesSubplot at 0x1a2a560ba8>"
      ]
     },
     "execution_count": 39,
     "metadata": {},
     "output_type": "execute_result"
    },
    {
     "data": {
      "image/png": "[encoded data removed]",
      "text/plain": [
       "<Figure size 432x288 with 1 Axes>"
      ]
     },
     "metadata": {
      "needs_background": "light"
     },
     "output_type": "display_data"
    }
   ],
   "source": [
    "# Examine whether there is outlier in ml_naloxone\n",
    "sns.boxplot(x=refill_cleaned['refill_month'],y=refill_cleaned['ml_naloxone'])"
   ]
  },
  {
   "cell_type": "code",
   "execution_count": 50,
   "metadata": {},
   "outputs": [],
   "source": [
    "refill_cleaned = refill_cleaned[(refill_cleaned.n_pp_refill<1000) & (refill_cleaned.ml_naloxone<1000)]"
   ]
  },
  {
   "cell_type": "code",
   "execution_count": 54,
   "metadata": {},
   "outputs": [],
   "source": [
    "# The variables of interest are:\n",
    "# Naloxone Administered: Field identifying whether or not naloxone was administered. Possible values: Y, N\n",
    "# survive: Describes if the victim survived the incident. Possible values: Y, N, U. (U=Unknown is a value assigned by the person entering the data. In some cases the responder may not know if the victim survived.)\n",
    "overdose_cleaned = overdose.dropna(subset=['Naloxone Administered', 'Survive'])"
   ]
  },
  {
   "cell_type": "markdown",
   "metadata": {},
   "source": [
    "## Transform"
   ]
  },
  {
   "cell_type": "code",
   "execution_count": 58,
   "metadata": {},
   "outputs": [],
   "source": [
    "# Summarize total number of naloxone refills received at PP and total amount of naloxone used by participant by month\n",
    "refill_bymonth = refill_cleaned.groupby('refill_month').aggregate({'n_pp_refill': 'sum',\n",
    "                             'ml_naloxone': 'sum'}).reset_index()"
   ]
  },
  {
   "cell_type": "code",
   "execution_count": 79,
   "metadata": {},
   "outputs": [],
   "source": [
    "# Summarize total number of incidents by month and survival\n",
    "overdose_mon_survival = overdose_cleaned.groupby(['Incident Month', 'Survive']).aggregate({'Incident ID': 'count'}).reset_index().rename(columns={'Incident ID': 'Count_Survival'})\n",
    "\n",
    "# Summarize total number of incidents by month and Naloxone Administered\n",
    "overdose_mon_naloxone = overdose_cleaned.groupby(['Incident Month', 'Naloxone Administered']).aggregate({'Incident ID': 'count'}).reset_index().rename(columns={'Naloxone Administered': 'Naloxone_Administered',\n",
    "'Incident ID':'Count_Naloxone_Admin'})\n",
    "\n",
    "# Summarize total number of incidents by month \n",
    "overdose_bymonth = overdose_cleaned.groupby('Incident Month').aggregate({'Incident ID': 'count'}).reset_index().rename(columns={'Incident ID': 'Count'})"
   ]
  },
  {
   "cell_type": "code",
   "execution_count": 80,
   "metadata": {},
   "outputs": [],
   "source": [
    "overdose_merge1 = pd.merge(overdose_bymonth, overdose_mon_survival[overdose_mon_survival.Survive == \"Y\"], on = \"Incident Month\")\n",
    "overdose_merge2 = pd.merge(overdose_merge1, overdose_mon_naloxone[overdose_mon_naloxone.Naloxone_Administered == \"Y\"], on = \"Incident Month\")\n",
    "\n",
    "overdose_merge2['Survival_Rate'] = overdose_merge2['Count_Survival']/overdose_merge2['Count']\n",
    "overdose_merge2['Naloxone_Admin_Rate'] = overdose_merge2['Count_Naloxone_Admin']/overdose_merge2['Count']"
   ]
  },
  {
   "cell_type": "code",
   "execution_count": 88,
   "metadata": {},
   "outputs": [],
   "source": [
    "db = pd.merge(overdose_merge2[['Incident Month', 'Survival_Rate', 'Naloxone_Admin_Rate']],refill_bymonth, left_on = \"Incident Month\", right_on = \"refill_month\")\n",
    "db = db[['Incident Month', 'Survival_Rate', 'Naloxone_Admin_Rate', 'n_pp_refill', 'ml_naloxone']].rename(columns={'Incident Month': 'Month'})"
   ]
  },
  {
   "cell_type": "code",
   "execution_count": 89,
   "metadata": {},
   "outputs": [
    {
     "data": {
      "text/html": [
       "<div>\n",
       "<style scoped>\n",
       "    .dataframe tbody tr th:only-of-type {\n",
       "        vertical-align: middle;\n",
       "    }\n",
       "\n",
       "    .dataframe tbody tr th {\n",
       "        vertical-align: top;\n",
       "    }\n",
       "\n",
       "    .dataframe thead th {\n",
       "        text-align: right;\n",
       "    }\n",
       "</style>\n",
       "<table border=\"1\" class=\"dataframe\">\n",
       "  <thead>\n",
       "    <tr style=\"text-align: right;\">\n",
       "      <th></th>\n",
       "      <th>Month</th>\n",
       "      <th>Survival_Rate</th>\n",
       "      <th>Naloxone_Admin_Rate</th>\n",
       "      <th>n_pp_refill</th>\n",
       "      <th>ml_naloxone</th>\n",
       "    </tr>\n",
       "  </thead>\n",
       "  <tbody>\n",
       "    <tr>\n",
       "      <th>0</th>\n",
       "      <td>1</td>\n",
       "      <td>0.761768</td>\n",
       "      <td>0.659942</td>\n",
       "      <td>246.0</td>\n",
       "      <td>48.3</td>\n",
       "    </tr>\n",
       "    <tr>\n",
       "      <th>1</th>\n",
       "      <td>2</td>\n",
       "      <td>0.759657</td>\n",
       "      <td>0.699571</td>\n",
       "      <td>442.0</td>\n",
       "      <td>43.4</td>\n",
       "    </tr>\n",
       "    <tr>\n",
       "      <th>2</th>\n",
       "      <td>3</td>\n",
       "      <td>0.710843</td>\n",
       "      <td>0.630522</td>\n",
       "      <td>548.0</td>\n",
       "      <td>67.9</td>\n",
       "    </tr>\n",
       "    <tr>\n",
       "      <th>3</th>\n",
       "      <td>6</td>\n",
       "      <td>0.746556</td>\n",
       "      <td>0.615702</td>\n",
       "      <td>124.0</td>\n",
       "      <td>27.2</td>\n",
       "    </tr>\n",
       "    <tr>\n",
       "      <th>4</th>\n",
       "      <td>7</td>\n",
       "      <td>0.761905</td>\n",
       "      <td>0.678399</td>\n",
       "      <td>847.0</td>\n",
       "      <td>1179.8</td>\n",
       "    </tr>\n",
       "    <tr>\n",
       "      <th>5</th>\n",
       "      <td>8</td>\n",
       "      <td>0.754142</td>\n",
       "      <td>0.617628</td>\n",
       "      <td>1574.0</td>\n",
       "      <td>2652.6</td>\n",
       "    </tr>\n",
       "    <tr>\n",
       "      <th>6</th>\n",
       "      <td>9</td>\n",
       "      <td>0.752274</td>\n",
       "      <td>0.641008</td>\n",
       "      <td>1684.0</td>\n",
       "      <td>1697.0</td>\n",
       "    </tr>\n",
       "    <tr>\n",
       "      <th>7</th>\n",
       "      <td>10</td>\n",
       "      <td>0.746349</td>\n",
       "      <td>0.676403</td>\n",
       "      <td>1414.0</td>\n",
       "      <td>3244.0</td>\n",
       "    </tr>\n",
       "    <tr>\n",
       "      <th>8</th>\n",
       "      <td>11</td>\n",
       "      <td>0.755285</td>\n",
       "      <td>0.660163</td>\n",
       "      <td>928.0</td>\n",
       "      <td>1653.0</td>\n",
       "    </tr>\n",
       "    <tr>\n",
       "      <th>9</th>\n",
       "      <td>12</td>\n",
       "      <td>0.715342</td>\n",
       "      <td>0.686691</td>\n",
       "      <td>2695.0</td>\n",
       "      <td>3094.0</td>\n",
       "    </tr>\n",
       "  </tbody>\n",
       "</table>\n",
       "</div>"
      ],
      "text/plain": [
       "   Month  Survival_Rate  Naloxone_Admin_Rate  n_pp_refill  ml_naloxone\n",
       "0      1       0.761768             0.659942        246.0         48.3\n",
       "1      2       0.759657             0.699571        442.0         43.4\n",
       "2      3       0.710843             0.630522        548.0         67.9\n",
       "3      6       0.746556             0.615702        124.0         27.2\n",
       "4      7       0.761905             0.678399        847.0       1179.8\n",
       "5      8       0.754142             0.617628       1574.0       2652.6\n",
       "6      9       0.752274             0.641008       1684.0       1697.0\n",
       "7     10       0.746349             0.676403       1414.0       3244.0\n",
       "8     11       0.755285             0.660163        928.0       1653.0\n",
       "9     12       0.715342             0.686691       2695.0       3094.0"
      ]
     },
     "execution_count": 89,
     "metadata": {},
     "output_type": "execute_result"
    }
   ],
   "source": [
    "db"
   ]
  },
  {
   "cell_type": "markdown",
   "metadata": {},
   "source": [
    "## Load"
   ]
  },
  {
   "cell_type": "code",
   "execution_count": 103,
   "metadata": {},
   "outputs": [
    {
     "name": "stdout",
     "output_type": "stream",
     "text": [
      "Naloxone_Month Table created successfully \n",
      "MySQL connection is closed\n"
     ]
    }
   ],
   "source": [
    "try:\n",
    "    connection = mysql.connector.connect(host='localhost',\n",
    "                                         database='OpioidData',\n",
    "                                         user='root',\n",
    "                                         password='Twi1ight')\n",
    "    mySql_Create_Table_Query = \"\"\"CREATE TABLE Naloxone_Month (Month int, \n",
    "    Survival_rate float, Naloxone_Rate float, n_pp_refill int, ml_naloxone float, PRIMARY KEY (Month))\"\"\"\n",
    "\n",
    "    cursor = connection.cursor()\n",
    "    result = cursor.execute(mySql_Create_Table_Query)\n",
    "    print(\"Naloxone_Month Table created successfully \")\n",
    "\n",
    "except mysql.connector.Error as error:\n",
    "    print(\"Failed to create table in MySQL: {}\".format(error))\n",
    "finally:\n",
    "    if (connection.is_connected()):\n",
    "        cursor.close()\n",
    "        connection.close()\n",
    "        print(\"MySQL connection is closed\")\n"
   ]
  },
  {
   "cell_type": "code",
   "execution_count": 104,
   "metadata": {},
   "outputs": [
    {
     "name": "stdout",
     "output_type": "stream",
     "text": [
      "Connected to MySQL Server version  8.0.20\n",
      "You're connected to database:  ('opioiddata',)\n",
      "MySQL connection is closed\n"
     ]
    }
   ],
   "source": [
    "try:\n",
    "    connection = mysql.connector.connect(host='localhost',\n",
    "                                         database='OpioidData',\n",
    "                                         user='root',\n",
    "                                         password='Twi1ight')\n",
    "    mySql_insert_query = \"\"\"INSERT INTO Naloxone_Month (Month, Survival_rate, Naloxone_Rate, n_pp_refill, ml_naloxone) \n",
    "                            VALUES (%s, %s, %s, %s) \"\"\"\n",
    "\n",
    "    cursor = connection.cursor()\n",
    "    cursor.execute(mySql_insert_query)\n",
    "    connection.commit()\n",
    "    print(cursor.rowcount, \"Record inserted successfully into Laptop table\")\n",
    "    cursor.close()\n",
    "\n",
    "except mysql.connector.Error as error:\n",
    "    print(\"Failed to insert record into Laptop table {}\".format(error))\n",
    "\n",
    "finally:\n",
    "    if (connection.is_connected()):\n",
    "        connection.close()\n",
    "        print(\"MySQL connection is closed\")"
   ]
  },
  {
   "cell_type": "code",
   "execution_count": 108,
   "metadata": {},
   "outputs": [],
   "source": [
    "# Connect to the database\n",
    "connection = pymysql.connect(host='localhost',\n",
    "                             database='OpioidData',\n",
    "                             user='root',\n",
    "                             password='Twi1ight')\n",
    "\n",
    "\n",
    "# create cursor\n",
    "cursor=connection.cursor()\n",
    "\n",
    "# Insert DataFrame recrds one by one.\n",
    "sql = \"INSERT INTO Naloxone_Month (Month, Survival_rate, Naloxone_Rate, n_pp_refill, ml_naloxone) VALUES(%s,%s,%s,%s,%s)\"\n",
    "for i,row in db.iterrows():\n",
    "    cursor.execute(sql, tuple(row))\n",
    "\n",
    "    # the connection is not autocommitted by default, so we must commit to save our changes\n",
    "    connection.commit()\n",
    "\n",
    "connection.close()"
   ]
  },
  {
   "cell_type": "markdown",
   "metadata": {},
   "source": [
    "We take a look at the Naloxone_Month Data we stored."
   ]
  },
  {
   "cell_type": "code",
   "execution_count": 114,
   "metadata": {},
   "outputs": [
    {
     "name": "stdout",
     "output_type": "stream",
     "text": [
      "(1, 0.761768, 0.659942, 246, 48.3)\n",
      "(2, 0.759657, 0.699571, 442, 43.4)\n",
      "(3, 0.710843, 0.630522, 548, 67.9)\n",
      "(6, 0.746556, 0.615702, 124, 27.2)\n",
      "(7, 0.761905, 0.678399, 847, 1179.8)\n",
      "(8, 0.754142, 0.617628, 1574, 2652.6)\n",
      "(9, 0.752274, 0.641008, 1684, 1697.0)\n",
      "(10, 0.746349, 0.676403, 1414, 3244.0)\n",
      "(11, 0.755285, 0.660163, 928, 1653.0)\n",
      "(12, 0.715342, 0.686691, 2695, 3094.0)\n"
     ]
    }
   ],
   "source": [
    "# Connect to the database\n",
    "connection = pymysql.connect(host='localhost',\n",
    "                             database='OpioidData',\n",
    "                             user='root',\n",
    "                             password='Twi1ight')\n",
    "\n",
    "\n",
    "# create cursor\n",
    "cursor=connection.cursor()\n",
    "\n",
    "# Execute query \n",
    "sql = \"SELECT * FROM `Naloxone_Month`\"\n",
    "cursor.execute(sql) \n",
    "# Fetch all the records \n",
    "result = cursor.fetchall() \n",
    "for i in result: \n",
    "    print(i)\n",
    "    \n",
    "connection.close()"
   ]
  }
 ],
 "metadata": {
  "kernelspec": {
   "display_name": "Python 3",
   "language": "python",
   "name": "python3"
  },
  "language_info": {
   "codemirror_mode": {
    "name": "ipython",
    "version": 3
   },
   "file_extension": ".py",
   "mimetype": "text/x-python",
   "name": "python",
   "nbconvert_exporter": "python",
   "pygments_lexer": "ipython3",
   "version": "3.7.1"
  }
 },
 "nbformat": 4,
 "nbformat_minor": 2
}
